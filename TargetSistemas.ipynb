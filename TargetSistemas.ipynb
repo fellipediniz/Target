{
  "nbformat": 4,
  "nbformat_minor": 0,
  "metadata": {
    "colab": {
      "provenance": [],
      "authorship_tag": "ABX9TyM14LukB54Qd+FCs2hy9twk",
      "include_colab_link": true
    },
    "kernelspec": {
      "name": "python3",
      "display_name": "Python 3"
    },
    "language_info": {
      "name": "python"
    }
  },
  "cells": [
    {
      "cell_type": "markdown",
      "metadata": {
        "id": "view-in-github",
        "colab_type": "text"
      },
      "source": [
        "<a href=\"https://colab.research.google.com/github/fellipediniz/Target/blob/main/TargetSistemas.ipynb\" target=\"_parent\"><img src=\"https://colab.research.google.com/assets/colab-badge.svg\" alt=\"Open In Colab\"/></a>"
      ]
    },
    {
      "cell_type": "code",
      "source": [],
      "metadata": {
        "id": "NZzqvZVkyRO6"
      },
      "execution_count": null,
      "outputs": []
    },
    {
      "cell_type": "markdown",
      "source": [
        "***Questão 2***"
      ],
      "metadata": {
        "id": "_-GoXNPByOSg"
      }
    },
    {
      "cell_type": "code",
      "execution_count": 1,
      "metadata": {
        "colab": {
          "base_uri": "https://localhost:8080/"
        },
        "id": "bXwNO8AHxLck",
        "outputId": "bf405c81-671e-45c0-eff0-d9368d2b75fd"
      },
      "outputs": [
        {
          "output_type": "stream",
          "name": "stdout",
          "text": [
            "Digite o numero que você deseja verificar se perternce a sequência fibonacci de 20 elementos: 32\n",
            "O numero não pertence a sequência fibonacci de 20 elementos\n"
          ]
        }
      ],
      "source": [
        "def fibonacci(quantidade, sequencia = (0,1)):\n",
        "    #IMPORTANTE: condição de parada\n",
        "    if len(sequencia) == quantidade:\n",
        "        return sequencia\n",
        "    return fibonacci(quantidade, sequencia + (sum(sequencia[-2:]),)) \n",
        "\n",
        "numero = int(input('Digite o número que você deseja verificar se perternce a sequência fibonacci de 20 elementos: '))\n",
        "if numero in fibonacci(20):\n",
        "    print('O numero pertence a sequência fibonacci de 20 elementos')\n",
        "else: \n",
        "    print('O numero não pertence a sequência fibonacci de 20 elementos')"
      ]
    },
    {
      "cell_type": "markdown",
      "source": [
        "***Questão 3***"
      ],
      "metadata": {
        "id": "BSu_rUswyYSI"
      }
    },
    {
      "cell_type": "code",
      "source": [
        "import json\n",
        "\n",
        "with open('dados.json','r') as arquivo:\n",
        "  dados = json.load(arquivo)\n",
        "\n",
        "valor_total = 0 \n",
        "for dicionario in dados:\n",
        "  valor_total += dicionario['valor']\n",
        "\n",
        "dias_uteis  = 0\n",
        "for d in dados:\n",
        "  if d['valor'] != 0:\n",
        "    dias_uteis +=1\n",
        "\n",
        "\n",
        "valores = [d['valor'] for d in dados if d['valor'] != 0]\n",
        "menor_valor= min(valores)\n",
        "maior_valor= max(valores)\n",
        "\n",
        "media = valor_total/dias_uteis\n",
        "\n",
        "\n",
        "dias_positivos = 0 \n",
        "for d in dados:\n",
        "  if d['valor'] > media:\n",
        "    dias_positivos += 1\n",
        "\n",
        "print(f'O menor valor de faturamento em um dia foi de {menor_valor}. O maior valor de faturamento em um dia foi de: {maior_valor}. Um total de {dias_positivos} obteve um faturamento maior que a média mensal')\n"
      ],
      "metadata": {
        "colab": {
          "base_uri": "https://localhost:8080/"
        },
        "id": "VxlQrhtS1Ai3",
        "outputId": "a1fc6b80-7327-4a96-f5b9-bfebc5922f54"
      },
      "execution_count": 25,
      "outputs": [
        {
          "output_type": "stream",
          "name": "stdout",
          "text": [
            "O menor valor de faturamento em um dia foi de 373.7838. O maior valor de faturamento em um dia foi de: 48924.2448. Um total de 10 obteve um faturamento maior que a média mensal\n"
          ]
        }
      ]
    },
    {
      "cell_type": "markdown",
      "source": [
        "***Questão 4***"
      ],
      "metadata": {
        "id": "4uioOwaLaS6c"
      }
    },
    {
      "cell_type": "code",
      "source": [
        "participacao = {'SP' : 67836.43, 'RJ': 36678.66,'MG': 29229.88,'ES': 27165.48, 'Outros' : 19849.53}\n",
        "\n",
        "total = sum(participacao.values())\n",
        "\n",
        "parti_sp = participacao['SP'] / total * 100\n",
        "parti_rj = participacao['RJ'] / total * 100\n",
        "parti_mg = participacao['MG'] / total * 100\n",
        "parti_es = participacao['ES'] / total * 100\n",
        "parti_outros = participacao['Outros'] / total * 100\n",
        "\n",
        "print(f'O estado de São Paulo represensa {parti_sp:,.2f}% no faturamento total da distribuidora. O estado do Rio de Janeiro represensa {parti_rj:,.2f}% no faturamento total da distribuidora. O estado de Minas Gerais represensa {parti_mg:,.2f}% no faturamento total da distribuidora. O estado do Espirito Santo represensa {parti_es:,.2f}% no faturamento total da distribuidora. E os outros estados respersentam {parti_outros:,.2f}%, no faturamento mensal da distribuidora')\n"
      ],
      "metadata": {
        "colab": {
          "base_uri": "https://localhost:8080/"
        },
        "id": "1aTazvMDaad0",
        "outputId": "4e471f12-cddf-4d0b-ca9e-84e2d3ecb43f"
      },
      "execution_count": 32,
      "outputs": [
        {
          "output_type": "stream",
          "name": "stdout",
          "text": [
            "O estado de São Paulo represensa 37.53% no faturamento total da distribuidora. O estado do Rio de Janeiro represensa 20.29% no faturamento total da distribuidora. O estado de Minas Gerais represensa 16.17% no faturamento total da distribuidora. O estado do Espirito Santo represensa 15.03% no faturamento total da distribuidora. E os outros estados respersentam 10.98%, no faturamento mensal da distribuidora\n"
          ]
        }
      ]
    },
    {
      "cell_type": "markdown",
      "source": [
        "***Questão 5***"
      ],
      "metadata": {
        "id": "M0Xt48n1mKgZ"
      }
    },
    {
      "cell_type": "code",
      "source": [
        "string = input('Favor digite a string desejada:')\n",
        "\n",
        "string_invertida = string[::-1]\n",
        "print(string_invertida)"
      ],
      "metadata": {
        "colab": {
          "base_uri": "https://localhost:8080/"
        },
        "id": "0UIPCD6PmeWA",
        "outputId": "e5abe030-cca3-4082-d7fc-b10011155a0d"
      },
      "execution_count": 34,
      "outputs": [
        {
          "output_type": "stream",
          "name": "stdout",
          "text": [
            "Favor digite a string desejada:abc\n",
            "cba\n"
          ]
        }
      ]
    },
    {
      "cell_type": "code",
      "source": [],
      "metadata": {
        "id": "3V_EogWXm_BJ"
      },
      "execution_count": null,
      "outputs": []
    }
  ]
}